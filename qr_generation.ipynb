{
 "cells": [
  {
   "attachments": {},
   "cell_type": "markdown",
   "metadata": {},
   "source": [
    "Source : https://segno.readthedocs.io/en/latest/"
   ]
  },
  {
   "cell_type": "code",
   "execution_count": 3,
   "metadata": {},
   "outputs": [],
   "source": [
    "import segno"
   ]
  },
  {
   "cell_type": "code",
   "execution_count": null,
   "metadata": {},
   "outputs": [],
   "source": [
    "price_tag = segno.make(\"Hello World\")\n",
    "price_tag.save(\"images/hello-world.png\")"
   ]
  },
  {
   "cell_type": "code",
   "execution_count": 6,
   "metadata": {},
   "outputs": [],
   "source": [
    "qrcode = segno.make('Vampire Blues')\n",
    "qrcode.save('images/vampire-blues.png', border=5)"
   ]
  },
  {
   "cell_type": "code",
   "execution_count": 7,
   "metadata": {},
   "outputs": [],
   "source": [
    "# larger codes\n",
    "qrcode = segno.make_qr('Welcome')\n",
    "qrcode.save('images/welcome.png', scale=10)"
   ]
  },
  {
   "cell_type": "code",
   "execution_count": 8,
   "metadata": {},
   "outputs": [],
   "source": [
    "# colorful\n",
    "qrcode = segno.make(\"Green ave, Kingston\")\n",
    "qrcode.save('images/address.png', dark='darkred', light='lightblue', scale=10)"
   ]
  },
  {
   "cell_type": "code",
   "execution_count": 22,
   "metadata": {},
   "outputs": [],
   "source": [
    "# Dark modules with alpha transparency\n",
    "qrcode = segno.make(\"Green ave, Kingston\")\n",
    "qrcode.save('images/address2.png', dark='#0000ffcc', scale=10)"
   ]
  },
  {
   "cell_type": "code",
   "execution_count": 10,
   "metadata": {},
   "outputs": [],
   "source": [
    "#micro QR\n",
    "micro_qrcode = segno.make('Rain', error='q')\n",
    "micro_qrcode.save('images/rain.png', dark='darkblue', data_dark='steelblue', scale=5)"
   ]
  },
  {
   "cell_type": "code",
   "execution_count": null,
   "metadata": {},
   "outputs": [],
   "source": [
    "#Multiple formats\n",
    "qrcode = segno.make('Beatles')\n",
    "qrcode.save('Beatles.svg')\n",
    "qrcode.save('Beatles.png')\n",
    "qrcode.save('Beatles.eps')"
   ]
  },
  {
   "cell_type": "code",
   "execution_count": 11,
   "metadata": {},
   "outputs": [],
   "source": [
    "#URLS\n",
    "video = segno.make('https://www.youtube.com/@wbkids')\n",
    "video.save('images/Video.png', dark=\"yellow\", light=\"#323524\", scale=5)"
   ]
  },
  {
   "cell_type": "code",
   "execution_count": 12,
   "metadata": {},
   "outputs": [],
   "source": [
    "#WIFI Password\n",
    "from segno import helpers\n",
    "\n",
    "qrcode = helpers.make_wifi(ssid='MyWifi', password='1234567890', security='WPA')\n",
    "qrcode.designator\n",
    "'3-M'\n",
    "qrcode.save('images/wifi-access.png', scale=10)"
   ]
  },
  {
   "cell_type": "code",
   "execution_count": 14,
   "metadata": {},
   "outputs": [],
   "source": [
    "# Contact details\n",
    "qrcode = helpers.make_mecard(name='Shittu Olumide', email='me@example.com', phone='+123456789')\n",
    "qrcode.designator\n",
    "'3-L'\n",
    "# Some params accept multiple values, like email, phone, url\n",
    "qrcode = helpers.make_mecard(name='example', \n",
    "                             email=('me@example.com', 'email@example.com'),\n",
    "                             url=['http://www.example.com', 'https://example.come/~olu'])\n",
    "qrcode.save('images/mycontact.png', scale=5)"
   ]
  },
  {
   "cell_type": "code",
   "execution_count": 17,
   "metadata": {},
   "outputs": [],
   "source": [
    "# Geo encoding\n",
    "from segno import helpers\n",
    "latitude, longitude = 38.8976763,-77.0365297\n",
    "qrcode = helpers.make_geo(latitude, longitude)\n",
    "qrcode.designator\n",
    "\n",
    "qrcode.save(\"images/geolocation.png\", scale = 5)"
   ]
  },
  {
   "cell_type": "code",
   "execution_count": 18,
   "metadata": {},
   "outputs": [],
   "source": [
    "latitude, longitude = 38.8976763, -77.0365297\n",
    "geo_uri = helpers.make_geo_data(latitude, longitude)\n",
    "geo_uri\n",
    "'geo:38.8976763,-77.0365297'\n",
    "# Use error correction level \"H\"\n",
    "qrcode = segno.make(geo_uri, error='H')\n",
    "qrcode.designator\n",
    "\n",
    "qrcode.save(\"images/ge2.png\")"
   ]
  },
  {
   "cell_type": "code",
   "execution_count": 31,
   "metadata": {},
   "outputs": [],
   "source": [
    "#Ebent\n",
    "import qrcode\n",
    "import datetime\n",
    "from icalendar import Calendar, Event\n",
    "\n",
    "# Define the details of the calendar event\n",
    "event = Event()\n",
    "event.add('summary', 'Example Event')\n",
    "event.add('dtstart', datetime.datetime(2023, 3, 1, 10, 0, 0)) # Event start time\n",
    "event.add('dtend', datetime.datetime(2023, 3, 1, 11, 0, 0)) # Event end time\n",
    "event.add('dtstamp', datetime.datetime.now()) # Current time\n",
    "event.add('description', 'This is an example event')\n",
    "\n",
    "# Create a calendar object and add the event to it\n",
    "cal = Calendar()\n",
    "cal.add_component(event)\n",
    "\n",
    "# Generate a QR code for the calendar event\n",
    "qr = qrcode.QRCode(\n",
    "    version=None,\n",
    "    error_correction=qrcode.constants.ERROR_CORRECT_L,\n",
    "    box_size=10,\n",
    "    border=4,\n",
    ")\n",
    "qr.add_data(cal.to_ical())\n",
    "qr.make(fit=True)\n",
    "qr_img = qr.make_image(fill_color=\"black\", back_color=\"white\")\n",
    "\n",
    "# Save the QR code image to a file\n",
    "qr_img.save(\"images/example_event_qr.png\")\n"
   ]
  }
 ],
 "metadata": {
  "kernelspec": {
   "display_name": "qr",
   "language": "python",
   "name": "python3"
  },
  "language_info": {
   "codemirror_mode": {
    "name": "ipython",
    "version": 3
   },
   "file_extension": ".py",
   "mimetype": "text/x-python",
   "name": "python",
   "nbconvert_exporter": "python",
   "pygments_lexer": "ipython3",
   "version": "3.10.6"
  },
  "orig_nbformat": 4,
  "vscode": {
   "interpreter": {
    "hash": "960919e636166fcc13b1d26aba59147e3a1931dc1e7a2aa67e83698e61fd588a"
   }
  }
 },
 "nbformat": 4,
 "nbformat_minor": 2
}
